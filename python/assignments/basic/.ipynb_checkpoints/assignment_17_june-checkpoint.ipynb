{
 "cells": [
  {
   "cell_type": "markdown",
   "id": "4242bd2a",
   "metadata": {},
   "source": [
    "# Assignment 17th June"
   ]
  },
  {
   "cell_type": "markdown",
   "id": "50436761",
   "metadata": {},
   "source": [
    "1. What is the role of try and exception block?"
   ]
  },
  {
   "cell_type": "markdown",
   "id": "1b2648ea",
   "metadata": {},
   "source": [
    "A1 : "
   ]
  },
  {
   "cell_type": "markdown",
   "id": "901b07f5",
   "metadata": {},
   "source": [
    "2. What is the syntax for a basic try-except block?"
   ]
  },
  {
   "cell_type": "markdown",
   "id": "7ae414ac",
   "metadata": {},
   "source": [
    "A2 : "
   ]
  },
  {
   "cell_type": "markdown",
   "id": "62e5a6b9",
   "metadata": {},
   "source": [
    "3. What happens if an exception occurs inside a try block and there is no matching except block?"
   ]
  },
  {
   "cell_type": "markdown",
   "id": "e4aca4eb",
   "metadata": {},
   "source": [
    "A3 : "
   ]
  },
  {
   "cell_type": "markdown",
   "id": "a6d316f4",
   "metadata": {},
   "source": [
    "4. What is the difference between using a bare except block and specifying a specific exception type?"
   ]
  },
  {
   "cell_type": "markdown",
   "id": "71509e8f",
   "metadata": {},
   "source": [
    "A4 : "
   ]
  },
  {
   "cell_type": "markdown",
   "id": "20946e34",
   "metadata": {},
   "source": [
    "5. Can you have nested try-except blocks in Python? If yes, then give an example."
   ]
  },
  {
   "cell_type": "markdown",
   "id": "abfe2651",
   "metadata": {},
   "source": [
    "A5 : "
   ]
  },
  {
   "cell_type": "markdown",
   "id": "e9092df9",
   "metadata": {},
   "source": [
    "6. Can we use multiple exception blocks, if yes then give an example."
   ]
  },
  {
   "cell_type": "markdown",
   "id": "c7a6cfba",
   "metadata": {},
   "source": [
    "A6 : "
   ]
  },
  {
   "cell_type": "markdown",
   "id": "6408ea79",
   "metadata": {},
   "source": [
    "7. Write the reason due to which following errors are raised:\n",
    "    a. EOFError\n",
    "    b. FloatingPointError\n",
    "    c. IndexError\n",
    "    d. MemoryError\n",
    "    e. OverflowError\n",
    "    f. TabError\n",
    "    g. ValueError"
   ]
  },
  {
   "cell_type": "markdown",
   "id": "2f68602b",
   "metadata": {},
   "source": [
    "A7 : "
   ]
  },
  {
   "cell_type": "markdown",
   "id": "b986b291",
   "metadata": {},
   "source": [
    "8. Write code for the following given scenario and add try-exception block to it.\n",
    "    a. Program to divide two numbers\n",
    "    b. Program to convert a string to an integer\n",
    "    c. Program to access an element in a list\n",
    "    d. Program to handle a specific exception\n",
    "    e. Program to handle any exception"
   ]
  },
  {
   "cell_type": "markdown",
   "id": "7da495f1",
   "metadata": {},
   "source": [
    "A8 : "
   ]
  }
 ],
 "metadata": {
  "kernelspec": {
   "display_name": "Python 3 (ipykernel)",
   "language": "python",
   "name": "python3"
  },
  "language_info": {
   "codemirror_mode": {
    "name": "ipython",
    "version": 3
   },
   "file_extension": ".py",
   "mimetype": "text/x-python",
   "name": "python",
   "nbconvert_exporter": "python",
   "pygments_lexer": "ipython3",
   "version": "3.10.9"
  }
 },
 "nbformat": 4,
 "nbformat_minor": 5
}
