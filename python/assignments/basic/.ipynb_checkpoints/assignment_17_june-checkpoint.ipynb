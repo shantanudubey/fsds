{
 "cells": [
  {
   "cell_type": "markdown",
   "id": "89c017a3",
   "metadata": {},
   "source": [
    "# Assignment 17th June"
   ]
  },
  {
   "cell_type": "markdown",
   "id": "b85c4f00",
   "metadata": {},
   "source": [
    "1. What is the role of try and exception block?"
   ]
  },
  {
   "cell_type": "markdown",
   "id": "13352d1d",
   "metadata": {},
   "source": [
    "A1 : "
   ]
  },
  {
   "cell_type": "markdown",
   "id": "364276ea",
   "metadata": {},
   "source": [
    "2. What is the syntax for a basic try-except block?"
   ]
  },
  {
   "cell_type": "markdown",
   "id": "9f83721b",
   "metadata": {},
   "source": [
    "A2 : "
   ]
  },
  {
   "cell_type": "markdown",
   "id": "6c5dc7c9",
   "metadata": {},
   "source": [
    "3. What happens if an exception occurs inside a try block and there is no matching\n",
    "except block?"
   ]
  },
  {
   "cell_type": "markdown",
   "id": "250eb6bb",
   "metadata": {},
   "source": [
    "A3 : "
   ]
  },
  {
   "cell_type": "markdown",
   "id": "fa354b02",
   "metadata": {},
   "source": [
    "4. What is the difference between using a bare except block and specifying a specific\n",
    "exception type?"
   ]
  },
  {
   "cell_type": "markdown",
   "id": "a97faa6f",
   "metadata": {},
   "source": [
    "A4 : "
   ]
  },
  {
   "cell_type": "markdown",
   "id": "48ba7f3d",
   "metadata": {},
   "source": [
    "5. Can you have nested try-except blocks in Python? If yes, then give an example."
   ]
  },
  {
   "cell_type": "markdown",
   "id": "93d7c0b9",
   "metadata": {},
   "source": [
    "A5 : "
   ]
  },
  {
   "cell_type": "markdown",
   "id": "068511af",
   "metadata": {},
   "source": [
    "6. Can we use multiple exception blocks, if yes then give an example."
   ]
  },
  {
   "cell_type": "markdown",
   "id": "da9862c3",
   "metadata": {},
   "source": [
    "A6 : "
   ]
  },
  {
   "cell_type": "markdown",
   "id": "06b43dff",
   "metadata": {},
   "source": [
    "7. Write the reason due to which following errors are raised:\n",
    "    a. EOFError\n",
    "    b. FloatingPointError\n",
    "    c. IndexError\n",
    "    d. MemoryError\n",
    "    e. OverflowError\n",
    "    f. TabError\n",
    "    g. ValueError"
   ]
  },
  {
   "cell_type": "markdown",
   "id": "52d2a4e8",
   "metadata": {},
   "source": [
    "A7 : "
   ]
  },
  {
   "cell_type": "markdown",
   "id": "5b373674",
   "metadata": {},
   "source": [
    "8. Write code for the following given scenario and add try-exception block to it.\n",
    "    a. Program to divide two numbers\n",
    "    b. Program to convert a string to an integer\n",
    "    c. Program to access an element in a list\n",
    "    d. Program to handle a specific exception\n",
    "    e. Program to handle any exception"
   ]
  },
  {
   "cell_type": "markdown",
   "id": "af207920",
   "metadata": {},
   "source": [
    "A8 : "
   ]
  }
 ],
 "metadata": {
  "kernelspec": {
   "display_name": "Python 3 (ipykernel)",
   "language": "python",
   "name": "python3"
  },
  "language_info": {
   "codemirror_mode": {
    "name": "ipython",
    "version": 3
   },
   "file_extension": ".py",
   "mimetype": "text/x-python",
   "name": "python",
   "nbconvert_exporter": "python",
   "pygments_lexer": "ipython3",
   "version": "3.10.9"
  }
 },
 "nbformat": 4,
 "nbformat_minor": 5
}
