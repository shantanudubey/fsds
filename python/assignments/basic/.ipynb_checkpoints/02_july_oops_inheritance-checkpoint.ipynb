{
 "cells": [
  {
   "cell_type": "markdown",
   "id": "252c493f",
   "metadata": {},
   "source": [
    "# Assignment : 2nd July : OOPS : Inheritance"
   ]
  },
  {
   "cell_type": "markdown",
   "id": "ef2ab7a7",
   "metadata": {},
   "source": [
    "1. Explain what inheritance is in object-oriented programming and why it is used."
   ]
  },
  {
   "cell_type": "markdown",
   "id": "3c7c5a59",
   "metadata": {},
   "source": [
    "A1: \n"
   ]
  },
  {
   "cell_type": "markdown",
   "id": "8fdbc987",
   "metadata": {},
   "source": [
    "2. Discuss the concept of single inheritance and multiple inheritance, highlighting their differences and advantages."
   ]
  },
  {
   "cell_type": "markdown",
   "id": "1d7e671e",
   "metadata": {},
   "source": [
    "A2: \n"
   ]
  },
  {
   "cell_type": "markdown",
   "id": "c2d5fe78",
   "metadata": {},
   "source": [
    "3. Explain the terms \"base class\" and \"derived class\" in the context of inheritance."
   ]
  },
  {
   "cell_type": "markdown",
   "id": "62f5cf45",
   "metadata": {},
   "source": [
    "A3: \n"
   ]
  },
  {
   "cell_type": "markdown",
   "id": "a8d108ab",
   "metadata": {},
   "source": [
    "4. What is the significance of the \"protected\" access modifier in inheritance? How does it differ from \"private\" and \"public\" modifiers?"
   ]
  },
  {
   "cell_type": "markdown",
   "id": "707c94b4",
   "metadata": {},
   "source": [
    "A4: \n"
   ]
  },
  {
   "cell_type": "markdown",
   "id": "f3e2ac68",
   "metadata": {},
   "source": [
    "5. What is the purpose of the \"super\" keyword in inheritance? Provide an example."
   ]
  },
  {
   "cell_type": "markdown",
   "id": "e534b7c9",
   "metadata": {},
   "source": [
    "A5: \n"
   ]
  },
  {
   "cell_type": "markdown",
   "id": "4c463734",
   "metadata": {},
   "source": [
    "6. Create a base class called \"Vehicle\" with attributes like \"make\", \"model\", and \"year\". Then, create a derived class called \"Car\" that inherits from \"Vehicle\" and adds an attribute called \"fuel_type\". Implement appropriate methods in both classes."
   ]
  },
  {
   "cell_type": "markdown",
   "id": "0968bd7e",
   "metadata": {},
   "source": [
    "A6: \n"
   ]
  },
  {
   "cell_type": "markdown",
   "id": "9ad449e4",
   "metadata": {},
   "source": [
    "7. Create a base class called \"Employee\" with attributes like \"name\" and \"salary.\" Derive two classes, \"Manager\" and \"Developer,\" from \"Employee.\" Add an additional attribute called \"department\" for the \"Manager\" class and \"programming_language\" for the \"Developer\" class."
   ]
  },
  {
   "cell_type": "markdown",
   "id": "c8b29284",
   "metadata": {},
   "source": [
    "A7: \n"
   ]
  },
  {
   "cell_type": "markdown",
   "id": "db98bf28",
   "metadata": {},
   "source": [
    "8. Design a base class called \"Shape\" with attributes like \"colour\" and \"border_width.\" Create derived classes, \"Rectangle\" and \"Circle,\" that inherit from \"Shape\" and add specific attributes like \"length\" and \"width\" for the \"Rectangle\" class and \"radius\" for the \"Circle\" class."
   ]
  },
  {
   "cell_type": "markdown",
   "id": "fa1c696d",
   "metadata": {},
   "source": [
    "A8: \n"
   ]
  },
  {
   "cell_type": "markdown",
   "id": "8037ac66",
   "metadata": {},
   "source": [
    "9. Create a base class called \"Device\" with attributes like \"brand\" and \"model.\" Derive two classes, \"Phone\" and \"Tablet,\" from \"Device.\" Add specific attributes like \"screen_size\" for the \"Phone\" class and \"battery_capacity\" for the \"Tablet\" class."
   ]
  },
  {
   "cell_type": "markdown",
   "id": "6bafbe98",
   "metadata": {},
   "source": [
    "A9: \n"
   ]
  },
  {
   "cell_type": "markdown",
   "id": "a59a5c85",
   "metadata": {},
   "source": [
    "10. Create a base class called \"BankAccount\" with attributes like \"account_number\" and \"balance.\" Derive two classes, \"SavingsAccount\" and \"CheckingAccount,\" from \"BankAccount.\" Add specific methods like \"calculate_interest\" for the \"SavingsAccount\" class and \"deduct_fees\" for the \"CheckingAccount\" class."
   ]
  },
  {
   "cell_type": "markdown",
   "id": "271504f2",
   "metadata": {},
   "source": [
    "A10: \n"
   ]
  }
 ],
 "metadata": {
  "kernelspec": {
   "display_name": "Python 3 (ipykernel)",
   "language": "python",
   "name": "python3"
  },
  "language_info": {
   "codemirror_mode": {
    "name": "ipython",
    "version": 3
   },
   "file_extension": ".py",
   "mimetype": "text/x-python",
   "name": "python",
   "nbconvert_exporter": "python",
   "pygments_lexer": "ipython3",
   "version": "3.10.9"
  }
 },
 "nbformat": 4,
 "nbformat_minor": 5
}
