{
 "cells": [
  {
   "cell_type": "markdown",
   "id": "b21e5d6b",
   "metadata": {},
   "source": [
    "# Assignment 11th June "
   ]
  },
  {
   "cell_type": "markdown",
   "id": "0d1aa59d",
   "metadata": {},
   "source": [
    "1. What is a lambda function in Python, and how does it differ from a regular function?"
   ]
  },
  {
   "cell_type": "markdown",
   "id": "588466d1",
   "metadata": {},
   "source": [
    "A1 : Lambda functions are short inline functions which can be used to do quick temporary operations/calculations without going through the standard function definition, reducing developemnt effort and increasing productivity. They also help in keeping the code concise and clear.\n",
    "\n",
    "They are different from regular functions in declaration using the 'lambda' keyword instead of 'def' for functions and in intended usage of being single line of execution. It can only have expressions in its body."
   ]
  },
  {
   "cell_type": "markdown",
   "id": "c09ec169",
   "metadata": {},
   "source": [
    "2. Can a lambda function in Python have multiple arguments? If yes, how can you define and use them?"
   ]
  },
  {
   "cell_type": "code",
   "execution_count": 1,
   "id": "557994af",
   "metadata": {},
   "outputs": [
    {
     "name": "stdout",
     "output_type": "stream",
     "text": [
      "34\n"
     ]
    }
   ],
   "source": [
    "#A2 : \n",
    "max_num = lambda x, y: x if x > y else y\n",
    "print(max_num(34, 7))"
   ]
  },
  {
   "cell_type": "markdown",
   "id": "a42d3b14",
   "metadata": {},
   "source": [
    "3. How are lambda functions typically used in Python? Provide an example use case."
   ]
  },
  {
   "cell_type": "code",
   "execution_count": null,
   "id": "e1c97b88",
   "metadata": {},
   "outputs": [],
   "source": [
    "#A3 : lambda functions are typically used as anonymous single line functions to be passed as argument to filter() functions\n",
    "\n",
    "\n"
   ]
  },
  {
   "cell_type": "markdown",
   "id": "f68604fa",
   "metadata": {},
   "source": [
    "4. What are the advantages and limitations of lambda functions compared to regular functions in Python?"
   ]
  },
  {
   "cell_type": "markdown",
   "id": "a242273c",
   "metadata": {},
   "source": [
    "A4 : "
   ]
  },
  {
   "cell_type": "markdown",
   "id": "2bb4bdfc",
   "metadata": {},
   "source": [
    "5. Are lambda functions in Python able to access variables defined outside of their own scope? Explain with an example."
   ]
  },
  {
   "cell_type": "markdown",
   "id": "3081ff98",
   "metadata": {},
   "source": [
    "A5 : "
   ]
  },
  {
   "cell_type": "markdown",
   "id": "dd5e79d4",
   "metadata": {},
   "source": [
    "6. Write a lambda function to calculate the square of a given number."
   ]
  },
  {
   "cell_type": "markdown",
   "id": "66373d43",
   "metadata": {},
   "source": [
    "A6 : "
   ]
  },
  {
   "cell_type": "markdown",
   "id": "107f147c",
   "metadata": {},
   "source": [
    "7. Create a lambda function to find the maximum value in a list of integers."
   ]
  },
  {
   "cell_type": "markdown",
   "id": "4c54c01f",
   "metadata": {},
   "source": [
    "A7 : "
   ]
  },
  {
   "cell_type": "markdown",
   "id": "3d9c3506",
   "metadata": {},
   "source": [
    "8. Implement a lambda function to filter out all the even numbers from a list of integers."
   ]
  },
  {
   "cell_type": "markdown",
   "id": "54c735d2",
   "metadata": {},
   "source": [
    "A8 : "
   ]
  },
  {
   "cell_type": "markdown",
   "id": "9166cf4b",
   "metadata": {},
   "source": [
    "9. Write a lambda function to sort a list of strings in ascending order based on the length of each string."
   ]
  },
  {
   "cell_type": "markdown",
   "id": "c6cc93a1",
   "metadata": {},
   "source": [
    "A9 : "
   ]
  },
  {
   "cell_type": "markdown",
   "id": "f9f29ee0",
   "metadata": {},
   "source": [
    "10. Create a lambda function that takes two lists as input and returns a new list containing the common elements between the two lists."
   ]
  },
  {
   "cell_type": "markdown",
   "id": "d36d7357",
   "metadata": {},
   "source": [
    "A10 : "
   ]
  },
  {
   "cell_type": "markdown",
   "id": "033297c5",
   "metadata": {},
   "source": [
    "11. Write a recursive function to calculate the factorial of a given positive integer."
   ]
  },
  {
   "cell_type": "markdown",
   "id": "e1835a53",
   "metadata": {},
   "source": [
    "A11 : "
   ]
  },
  {
   "cell_type": "markdown",
   "id": "404b5fb6",
   "metadata": {},
   "source": [
    "12. Implement a recursive function to compute the nth Fibonacci number."
   ]
  },
  {
   "cell_type": "markdown",
   "id": "00a63d93",
   "metadata": {},
   "source": [
    "A12 : "
   ]
  },
  {
   "cell_type": "markdown",
   "id": "7d2fdc38",
   "metadata": {},
   "source": [
    "13. Create a recursive function to find the sum of all the elements in a given list."
   ]
  },
  {
   "cell_type": "markdown",
   "id": "573c51bd",
   "metadata": {},
   "source": [
    "A13 : "
   ]
  },
  {
   "cell_type": "markdown",
   "id": "bd3d085a",
   "metadata": {},
   "source": [
    "14. Write a recursive function to determine whether a given string is a palindrome."
   ]
  },
  {
   "cell_type": "markdown",
   "id": "960f3827",
   "metadata": {},
   "source": [
    "A14 : "
   ]
  },
  {
   "cell_type": "markdown",
   "id": "f6ce072f",
   "metadata": {},
   "source": [
    "15. Implement a recursive function to find the greatest common divisor (GCD) of two positive integers."
   ]
  },
  {
   "cell_type": "markdown",
   "id": "246f6ded",
   "metadata": {},
   "source": [
    "A15 : "
   ]
  }
 ],
 "metadata": {
  "kernelspec": {
   "display_name": "Python 3 (ipykernel)",
   "language": "python",
   "name": "python3"
  },
  "language_info": {
   "codemirror_mode": {
    "name": "ipython",
    "version": 3
   },
   "file_extension": ".py",
   "mimetype": "text/x-python",
   "name": "python",
   "nbconvert_exporter": "python",
   "pygments_lexer": "ipython3",
   "version": "3.10.9"
  }
 },
 "nbformat": 4,
 "nbformat_minor": 5
}
