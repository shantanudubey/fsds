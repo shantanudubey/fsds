{
 "cells": [
  {
   "cell_type": "markdown",
   "id": "b21e5d6b",
   "metadata": {},
   "source": [
    "# Assignment 11th June "
   ]
  },
  {
   "cell_type": "markdown",
   "id": "0d1aa59d",
   "metadata": {},
   "source": [
    "1. What is a lambda function in Python, and how does it differ from a regular function?"
   ]
  },
  {
   "cell_type": "markdown",
   "id": "588466d1",
   "metadata": {},
   "source": [
    "A1 : Lambda functions are anonymous, short inline functions which can be used to do quick operations/calculations without going through the standard function definition, reducing developemnt effort and increasing productivity. They also help in keeping the code concise and clear.\n",
    "\n",
    "They are different from regular functions in declaration using the 'lambda' keyword instead of 'def' for functions and in intended usage of being single line of execution. It can only have expressions in its body."
   ]
  },
  {
   "cell_type": "markdown",
   "id": "c09ec169",
   "metadata": {},
   "source": [
    "2. Can a lambda function in Python have multiple arguments? If yes, how can you define and use them?"
   ]
  },
  {
   "cell_type": "code",
   "execution_count": 1,
   "id": "557994af",
   "metadata": {},
   "outputs": [
    {
     "name": "stdout",
     "output_type": "stream",
     "text": [
      "34\n"
     ]
    }
   ],
   "source": [
    "#A2 : \n",
    "max_num = lambda x, y: x if x > y else y\n",
    "print(max_num(34, 7))"
   ]
  },
  {
   "cell_type": "markdown",
   "id": "a42d3b14",
   "metadata": {},
   "source": [
    "3. How are lambda functions typically used in Python? Provide an example use case."
   ]
  },
  {
   "cell_type": "code",
   "execution_count": 4,
   "id": "e1c97b88",
   "metadata": {},
   "outputs": [
    {
     "name": "stdout",
     "output_type": "stream",
     "text": [
      "[2, 4, 6, 8, 10]\n"
     ]
    }
   ],
   "source": [
    "#A3 : lambda functions are typically used as anonymous single line functions to be passed as argument to filter() functions\n",
    "\n",
    "# Filtering a list of even numbers in a list\n",
    "list_01 = [1, 2, 3, 4, 5, 6, 7, 8, 9, 10]\n",
    "f = filter(lambda n: n%2 == 0, list_01)\n",
    "print(list(f))"
   ]
  },
  {
   "cell_type": "markdown",
   "id": "f68604fa",
   "metadata": {},
   "source": [
    "4. What are the advantages and limitations of lambda functions compared to regular functions in Python?"
   ]
  },
  {
   "cell_type": "markdown",
   "id": "a242273c",
   "metadata": {},
   "source": [
    "A4 : \n",
    "Advnatages : \n",
    "    - reduce coding effort and increase productivity\n",
    "    - can be assigned to a variable when invoked\n",
    "    - facilitate the use of higher order functions like map(), filter() etc.\n",
    "Limitations : \n",
    "    - can only return 1 value\n",
    "    - can't be named\n",
    "    - not intended for complex tasks"
   ]
  },
  {
   "cell_type": "markdown",
   "id": "2bb4bdfc",
   "metadata": {},
   "source": [
    "5. Are lambda functions in Python able to access variables defined outside of their own scope? Explain with an example."
   ]
  },
  {
   "cell_type": "code",
   "execution_count": 13,
   "id": "f00e1cfd",
   "metadata": {},
   "outputs": [
    {
     "name": "stdout",
     "output_type": "stream",
     "text": [
      "100 200 300 dummy\n"
     ]
    }
   ],
   "source": [
    "#A5 : Lambda functions can access the variables defined in the enclosing scope in addition to their own scope.\n",
    "x = 100\n",
    "y = 200\n",
    "z = 300\n",
    "s = \"dummy\"\n",
    "# All 4 variables declared above are accessible in the lambda function while only x,y were passed!\n",
    "f = lambda x, y: print(x, y, z, s)\n",
    "f(x, y)"
   ]
  },
  {
   "cell_type": "markdown",
   "id": "dd5e79d4",
   "metadata": {},
   "source": [
    "6. Write a lambda function to calculate the square of a given number."
   ]
  },
  {
   "cell_type": "code",
   "execution_count": 16,
   "id": "18b278b5",
   "metadata": {},
   "outputs": [
    {
     "data": {
      "text/plain": [
       "81"
      ]
     },
     "execution_count": 16,
     "metadata": {},
     "output_type": "execute_result"
    }
   ],
   "source": [
    "#A6 : \n",
    "f = lambda x: x*x\n",
    "f(9)"
   ]
  },
  {
   "cell_type": "markdown",
   "id": "107f147c",
   "metadata": {},
   "source": [
    "7. Create a lambda function to find the maximum value in a list of integers."
   ]
  },
  {
   "cell_type": "code",
   "execution_count": 18,
   "id": "6f679708",
   "metadata": {},
   "outputs": [
    {
     "data": {
      "text/plain": [
       "82"
      ]
     },
     "execution_count": 18,
     "metadata": {},
     "output_type": "execute_result"
    }
   ],
   "source": [
    "#A7 : \n",
    "import functools\n",
    "\n",
    "list_01 = [1, 82, 73, 4, 55, 6, 7, 68, 79, 10]\n",
    "functools.reduce(lambda x, y: max(x,y), list_01)"
   ]
  },
  {
   "cell_type": "markdown",
   "id": "3d9c3506",
   "metadata": {},
   "source": [
    "8. Implement a lambda function to filter out all the even numbers from a list of integers."
   ]
  },
  {
   "cell_type": "code",
   "execution_count": 5,
   "id": "43f133e8",
   "metadata": {},
   "outputs": [
    {
     "name": "stdout",
     "output_type": "stream",
     "text": [
      "[2, 4, 6, 8, 10]\n"
     ]
    }
   ],
   "source": [
    "#A8 : \n",
    "# Filtering a list of even numbers in a list\n",
    "list_01 = [1, 2, 3, 4, 5, 6, 7, 8, 9, 10]\n",
    "f = filter(lambda n: n%2 == 0, list_01)\n",
    "print(list(f))"
   ]
  },
  {
   "cell_type": "markdown",
   "id": "9166cf4b",
   "metadata": {},
   "source": [
    "9. Write a lambda function to sort a list of strings in ascending order based on the length of each string."
   ]
  },
  {
   "cell_type": "code",
   "execution_count": 30,
   "id": "8df21fdd",
   "metadata": {},
   "outputs": [
    {
     "name": "stdout",
     "output_type": "stream",
     "text": [
      "['a', 'is', 'of', 'This', 'list', 'dummy', 'strings']\n"
     ]
    }
   ],
   "source": [
    "#A9 : \n",
    "lst = [\"This\",\"is\", \"a\", \"list\", \"of\", \"dummy\", \"strings\"]\n",
    "f = lambda s: len(s)\n",
    "lst = sorted(lst, key=f)\n",
    "print(lst)"
   ]
  },
  {
   "cell_type": "markdown",
   "id": "f9f29ee0",
   "metadata": {},
   "source": [
    "10. Create a lambda function that takes two lists as input and returns a new list containing the common elements between the two lists."
   ]
  },
  {
   "cell_type": "code",
   "execution_count": 39,
   "id": "a2ffb1ac",
   "metadata": {},
   "outputs": [
    {
     "name": "stdout",
     "output_type": "stream",
     "text": [
      "<filter object at 0x000001930E27C820>\n"
     ]
    }
   ],
   "source": [
    "#A10 : \n",
    "list_01 = [1, 2, 3, 5, 7, 9, 11, 13, 17, 19]\n",
    "list_02 = [1, 2, 3, 4, 5, 6, 7, 8, 9, 10]\n",
    "\n",
    "???????????????????????????????????????????????????????????????????????????????????????????????\n",
    "f = lambda lst1, lst2: filter(lst1.exists(), lst2)\n",
    "list_03 = f(list_01, list_02)\n",
    "print(list_03)\n"
   ]
  },
  {
   "cell_type": "markdown",
   "id": "033297c5",
   "metadata": {},
   "source": [
    "11. Write a recursive function to calculate the factorial of a given positive integer."
   ]
  },
  {
   "cell_type": "code",
   "execution_count": null,
   "id": "0dc653c8",
   "metadata": {},
   "outputs": [],
   "source": [
    "#A11 : \n",
    "\n"
   ]
  },
  {
   "cell_type": "markdown",
   "id": "404b5fb6",
   "metadata": {},
   "source": [
    "12. Implement a recursive function to compute the nth Fibonacci number."
   ]
  },
  {
   "cell_type": "code",
   "execution_count": null,
   "id": "208bef3a",
   "metadata": {},
   "outputs": [],
   "source": [
    "#A12 : \n",
    "\n"
   ]
  },
  {
   "cell_type": "markdown",
   "id": "7d2fdc38",
   "metadata": {},
   "source": [
    "13. Create a recursive function to find the sum of all the elements in a given list."
   ]
  },
  {
   "cell_type": "code",
   "execution_count": null,
   "id": "a210ddfb",
   "metadata": {},
   "outputs": [],
   "source": [
    "#A13 : \n",
    "\n"
   ]
  },
  {
   "cell_type": "markdown",
   "id": "bd3d085a",
   "metadata": {},
   "source": [
    "14. Write a recursive function to determine whether a given string is a palindrome."
   ]
  },
  {
   "cell_type": "code",
   "execution_count": null,
   "id": "c30639ba",
   "metadata": {},
   "outputs": [],
   "source": [
    "#A14 : \n",
    "\n"
   ]
  },
  {
   "cell_type": "markdown",
   "id": "f6ce072f",
   "metadata": {},
   "source": [
    "15. Implement a recursive function to find the greatest common divisor (GCD) of two positive integers."
   ]
  },
  {
   "cell_type": "code",
   "execution_count": null,
   "id": "7f3efe46",
   "metadata": {},
   "outputs": [],
   "source": [
    "#A15 : \n",
    "\n",
    "\n"
   ]
  }
 ],
 "metadata": {
  "kernelspec": {
   "display_name": "Python 3 (ipykernel)",
   "language": "python",
   "name": "python3"
  },
  "language_info": {
   "codemirror_mode": {
    "name": "ipython",
    "version": 3
   },
   "file_extension": ".py",
   "mimetype": "text/x-python",
   "name": "python",
   "nbconvert_exporter": "python",
   "pygments_lexer": "ipython3",
   "version": "3.10.9"
  }
 },
 "nbformat": 4,
 "nbformat_minor": 5
}
