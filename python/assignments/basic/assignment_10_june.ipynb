{
 "cells": [
  {
   "cell_type": "markdown",
   "id": "86f16d79",
   "metadata": {},
   "source": [
    "# Assignment 10th June"
   ]
  },
  {
   "cell_type": "markdown",
   "id": "e51f0a8e",
   "metadata": {},
   "source": [
    "1. In Python, what is the difference between a built-in function and a user-defined function? Provide an\n",
    "example of each."
   ]
  },
  {
   "cell_type": "markdown",
   "id": "170df199",
   "metadata": {},
   "source": [
    "A1 : "
   ]
  },
  {
   "cell_type": "markdown",
   "id": "50d2e3f3",
   "metadata": {},
   "source": [
    "2. How can you pass arguments to a function in Python? Explain the difference between positional\n",
    "arguments and keyword arguments."
   ]
  },
  {
   "cell_type": "markdown",
   "id": "050701d5",
   "metadata": {},
   "source": [
    "A2 : "
   ]
  },
  {
   "cell_type": "markdown",
   "id": "01af878d",
   "metadata": {},
   "source": [
    "3. What is the purpose of the return statement in a function? Can a function have multiple return\n",
    "statements? Explain with an example."
   ]
  },
  {
   "cell_type": "markdown",
   "id": "cd5179b6",
   "metadata": {},
   "source": [
    "A3 : "
   ]
  },
  {
   "cell_type": "markdown",
   "id": "062a18c8",
   "metadata": {},
   "source": [
    "4. What are lambda functions in Python? How are they different from regular functions? Provide an\n",
    "example where a lambda function can be useful.\n"
   ]
  },
  {
   "cell_type": "markdown",
   "id": "6740a56c",
   "metadata": {},
   "source": [
    "A4 : "
   ]
  },
  {
   "cell_type": "markdown",
   "id": "8fd0f083",
   "metadata": {},
   "source": [
    "5. How does the concept of \"scope\" apply to functions in Python? Explain the difference between local\n",
    "scope and global scope."
   ]
  },
  {
   "cell_type": "markdown",
   "id": "82efce34",
   "metadata": {},
   "source": [
    "A5 : "
   ]
  },
  {
   "cell_type": "markdown",
   "id": "d2f93b86",
   "metadata": {},
   "source": [
    "6. How can you use the \"return\" statement in a Python function to return multiple values?"
   ]
  },
  {
   "cell_type": "markdown",
   "id": "4e7d4815",
   "metadata": {},
   "source": [
    "A6 : "
   ]
  },
  {
   "cell_type": "markdown",
   "id": "cb5930a7",
   "metadata": {},
   "source": [
    "7. What is the difference between the \"pass by value\" and \"pass by reference\" concepts when it\n",
    "comes to function arguments in Python?"
   ]
  },
  {
   "cell_type": "markdown",
   "id": "08216cd1",
   "metadata": {},
   "source": [
    "A7 : "
   ]
  },
  {
   "cell_type": "markdown",
   "id": "66c666b6",
   "metadata": {},
   "source": [
    "8. Create a function that can intake integer or decimal value and do following operations:\n",
    "a. Logarithmic function (log x)\n",
    "b. Exponential function (exp(x))\n",
    "c. Power function with base 2 (2x)\n",
    "d. Square root"
   ]
  },
  {
   "cell_type": "markdown",
   "id": "3e95fca3",
   "metadata": {},
   "source": [
    "A10 : "
   ]
  },
  {
   "cell_type": "markdown",
   "id": "6db72ecd",
   "metadata": {},
   "source": [
    "9. Create a function that takes a full name as an argument and returns first name and last name."
   ]
  },
  {
   "cell_type": "markdown",
   "id": "a4554bec",
   "metadata": {},
   "source": [
    "A9 : "
   ]
  }
 ],
 "metadata": {
  "kernelspec": {
   "display_name": "Python 3 (ipykernel)",
   "language": "python",
   "name": "python3"
  },
  "language_info": {
   "codemirror_mode": {
    "name": "ipython",
    "version": 3
   },
   "file_extension": ".py",
   "mimetype": "text/x-python",
   "name": "python",
   "nbconvert_exporter": "python",
   "pygments_lexer": "ipython3",
   "version": "3.10.9"
  }
 },
 "nbformat": 4,
 "nbformat_minor": 5
}
