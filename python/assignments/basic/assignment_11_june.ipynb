{
 "cells": [
  {
   "cell_type": "markdown",
   "id": "0f103560",
   "metadata": {},
   "source": [
    "# Assignment 11th June "
   ]
  },
  {
   "cell_type": "markdown",
   "id": "21775e38",
   "metadata": {},
   "source": [
    "1. What is a lambda function in Python, and how does it differ from a regular function?"
   ]
  },
  {
   "cell_type": "markdown",
   "id": "cea1a423",
   "metadata": {},
   "source": [
    "A1 : "
   ]
  },
  {
   "cell_type": "markdown",
   "id": "a7325842",
   "metadata": {},
   "source": [
    "2. Can a lambda function in Python have multiple arguments? If yes, how can you define and use\n",
    "them?"
   ]
  },
  {
   "cell_type": "markdown",
   "id": "eec13a8c",
   "metadata": {},
   "source": [
    "A2 : "
   ]
  },
  {
   "cell_type": "markdown",
   "id": "e67eb9c9",
   "metadata": {},
   "source": [
    "3. How are lambda functions typically used in Python? Provide an example use case."
   ]
  },
  {
   "cell_type": "markdown",
   "id": "5bdd28f6",
   "metadata": {},
   "source": [
    "A3 : "
   ]
  },
  {
   "cell_type": "markdown",
   "id": "ab8f6c03",
   "metadata": {},
   "source": [
    "4. What are the advantages and limitations of lambda functions compared to regular functions in\n",
    "Python?"
   ]
  },
  {
   "cell_type": "markdown",
   "id": "62e4390f",
   "metadata": {},
   "source": [
    "A4 : "
   ]
  },
  {
   "cell_type": "markdown",
   "id": "30b019b4",
   "metadata": {},
   "source": [
    "5. Are lambda functions in Python able to access variables defined outside of their own scope?\n",
    "Explain with an example."
   ]
  },
  {
   "cell_type": "markdown",
   "id": "1d1e5fa3",
   "metadata": {},
   "source": [
    "A5 : "
   ]
  },
  {
   "cell_type": "markdown",
   "id": "ff1282c1",
   "metadata": {},
   "source": [
    "6. Write a lambda function to calculate the square of a given number."
   ]
  },
  {
   "cell_type": "markdown",
   "id": "752faea4",
   "metadata": {},
   "source": [
    "A6 : "
   ]
  },
  {
   "cell_type": "markdown",
   "id": "6782d093",
   "metadata": {},
   "source": [
    "7. Create a lambda function to find the maximum value in a list of integers."
   ]
  },
  {
   "cell_type": "markdown",
   "id": "fa0b0f05",
   "metadata": {},
   "source": [
    "A7 : "
   ]
  },
  {
   "cell_type": "markdown",
   "id": "ad50954f",
   "metadata": {},
   "source": [
    "8. Implement a lambda function to filter out all the even numbers from a list of integers."
   ]
  },
  {
   "cell_type": "markdown",
   "id": "58e6435e",
   "metadata": {},
   "source": [
    "A8 : "
   ]
  },
  {
   "cell_type": "markdown",
   "id": "22bd21f8",
   "metadata": {},
   "source": [
    "9. Write a lambda function to sort a list of strings in ascending order based on the length of each\n",
    "string."
   ]
  },
  {
   "cell_type": "markdown",
   "id": "abd12be5",
   "metadata": {},
   "source": [
    "A9 : "
   ]
  },
  {
   "cell_type": "markdown",
   "id": "eeefeb84",
   "metadata": {},
   "source": [
    "10. Create a lambda function that takes two lists as input and returns a new list containing the\n",
    "common elements between the two lists."
   ]
  },
  {
   "cell_type": "markdown",
   "id": "005cdd1e",
   "metadata": {},
   "source": [
    "A10 : "
   ]
  },
  {
   "cell_type": "markdown",
   "id": "7545c44d",
   "metadata": {},
   "source": [
    "11. Write a recursive function to calculate the factorial of a given positive integer."
   ]
  },
  {
   "cell_type": "markdown",
   "id": "99d8f6e2",
   "metadata": {},
   "source": [
    "A11 : "
   ]
  },
  {
   "cell_type": "markdown",
   "id": "1ed48c39",
   "metadata": {},
   "source": [
    "12. Implement a recursive function to compute the nth Fibonacci number."
   ]
  },
  {
   "cell_type": "markdown",
   "id": "d295201b",
   "metadata": {},
   "source": [
    "A12 : "
   ]
  },
  {
   "cell_type": "markdown",
   "id": "2d249e7f",
   "metadata": {},
   "source": [
    "13. Create a recursive function to find the sum of all the elements in a given list."
   ]
  },
  {
   "cell_type": "markdown",
   "id": "bf769e92",
   "metadata": {},
   "source": [
    "A13 : "
   ]
  },
  {
   "cell_type": "markdown",
   "id": "0e2c653a",
   "metadata": {},
   "source": [
    "14. Write a recursive function to determine whether a given string is a palindrome."
   ]
  },
  {
   "cell_type": "markdown",
   "id": "545455cc",
   "metadata": {},
   "source": [
    "A14 : "
   ]
  },
  {
   "cell_type": "markdown",
   "id": "ce1346f0",
   "metadata": {},
   "source": [
    "15. Implement a recursive function to find the greatest common divisor (GCD) of two positive integers."
   ]
  },
  {
   "cell_type": "markdown",
   "id": "bfbb2b72",
   "metadata": {},
   "source": [
    "A15 : "
   ]
  }
 ],
 "metadata": {
  "kernelspec": {
   "display_name": "Python 3 (ipykernel)",
   "language": "python",
   "name": "python3"
  },
  "language_info": {
   "codemirror_mode": {
    "name": "ipython",
    "version": 3
   },
   "file_extension": ".py",
   "mimetype": "text/x-python",
   "name": "python",
   "nbconvert_exporter": "python",
   "pygments_lexer": "ipython3",
   "version": "3.10.9"
  }
 },
 "nbformat": 4,
 "nbformat_minor": 5
}
