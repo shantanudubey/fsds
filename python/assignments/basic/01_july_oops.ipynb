{
 "cells": [
  {
   "cell_type": "markdown",
   "id": "d4ef1932",
   "metadata": {},
   "source": [
    "# Assignment : 1st July : OOPS"
   ]
  },
  {
   "cell_type": "markdown",
   "id": "4b7f9e62",
   "metadata": {},
   "source": [
    "1. What is the primary goal of Object-Oriented Programming (OOP)?"
   ]
  },
  {
   "cell_type": "markdown",
   "id": "2644fed1",
   "metadata": {},
   "source": [
    "A1: "
   ]
  },
  {
   "cell_type": "markdown",
   "id": "6b0c1330",
   "metadata": {},
   "source": [
    "2. What is an object in Python?"
   ]
  },
  {
   "cell_type": "markdown",
   "id": "1b5c1647",
   "metadata": {},
   "source": [
    "A2: "
   ]
  },
  {
   "cell_type": "markdown",
   "id": "e1f07045",
   "metadata": {},
   "source": [
    "3. What is a class in Python?"
   ]
  },
  {
   "cell_type": "markdown",
   "id": "41965096",
   "metadata": {},
   "source": [
    "A3: "
   ]
  },
  {
   "cell_type": "markdown",
   "id": "31d4342f",
   "metadata": {},
   "source": [
    "4. What are attributes and methods in a class?"
   ]
  },
  {
   "cell_type": "markdown",
   "id": "a565c389",
   "metadata": {},
   "source": [
    "A4: "
   ]
  },
  {
   "cell_type": "markdown",
   "id": "4e6b5aa0",
   "metadata": {},
   "source": [
    "5. What is the difference between class variables and instance variables in Python?"
   ]
  },
  {
   "cell_type": "markdown",
   "id": "08a3c5dd",
   "metadata": {},
   "source": [
    "A5: "
   ]
  },
  {
   "cell_type": "markdown",
   "id": "d7600cc1",
   "metadata": {},
   "source": [
    "6. What is the purpose of the self parameter in Python class methods?"
   ]
  },
  {
   "cell_type": "markdown",
   "id": "2873cdae",
   "metadata": {},
   "source": [
    "A6: "
   ]
  },
  {
   "cell_type": "markdown",
   "id": "bf0b3a52",
   "metadata": {},
   "source": [
    "7. For a library management system, you have to design the \"Book\" class with OOP principles in mind. The “Book” class will have following attributes:\n",
    "    a. title: Represents the title of the book.\n",
    "    b. author: Represents the author(s) of the book.\n",
    "    c. isbn: Represents the ISBN (International Standard Book Number) of the book.\n",
    "    d. publication_year: Represents the year of publication of the book.\n",
    "    e. available_copies: Represents the number of copies available for checkout.\n",
    "    The class will also include the following methods:\n",
    "    a. check_out(self): Decrements the available copies by one if there are copies\n",
    "    available for checkout.\n",
    "    b. return_book(self): Increments the available copies by one when a book is\n",
    "    returned.\n",
    "    c. display_book_info(self): Displays the information about the book, including its\n",
    "    attributes and the number of available copies."
   ]
  },
  {
   "cell_type": "markdown",
   "id": "b0f41aa5",
   "metadata": {},
   "source": [
    "A7:\n"
   ]
  },
  {
   "cell_type": "markdown",
   "id": "83c51fba",
   "metadata": {},
   "source": [
    "8. For a ticket booking system, you have to design the \"Ticket\" class with OOP principles in mind. The “Ticket” class should have the following attributes:\n",
    "    a. ticket_id: Represents the unique identifier for the ticket.\n",
    "    b. event_name: Represents the name of the event.\n",
    "    c. event_date: Represents the date of the event.\n",
    "    d. venue: Represents the venue of the event.\n",
    "    e. seat_number: Represents the seat number associated with the ticket.\n",
    "    f. price: Represents the price of the ticket.\n",
    "    g. is_reserved: Represents the reservation status of the ticket.\n",
    "    The class also includes the following methods:\n",
    "    a. reserve_ticket(self): Marks the ticket as reserved if it is not already reserved.\n",
    "    b. cancel_reservation(self): Cancels the reservation of the ticket if it is already\n",
    "    reserved.\n",
    "    c. display_ticket_info(self): Displays the information about the ticket, including its\n",
    "    attributes and reservation status."
   ]
  },
  {
   "cell_type": "markdown",
   "id": "b9900a1f",
   "metadata": {},
   "source": [
    "A8: "
   ]
  },
  {
   "cell_type": "markdown",
   "id": "b08b0b34",
   "metadata": {},
   "source": [
    "9. You are creating a shopping cart for an e-commerce website. Using OOP to model the \"ShoppingCart\" functionality the class should contain following attributes and methods:\n",
    "    a. items: Represents the list of items in the shopping cart.\n",
    "    The class also includes the following methods:\n",
    "\n",
    "    a. add_item(self, item): Adds an item to the shopping cart by appending it to the\n",
    "    list of items.\n",
    "    b. remove_item(self, item): Removes an item from the shopping cart if it exists in\n",
    "    the list.\n",
    "    c. view_cart(self): Displays the items currently present in the shopping cart.\n",
    "    d. clear_cart(self): Clears all items from the shopping cart by reassigning an\n",
    "    empty list to the items attribute."
   ]
  },
  {
   "cell_type": "markdown",
   "id": "6a0b9f9d",
   "metadata": {},
   "source": [
    "A9: \n"
   ]
  },
  {
   "cell_type": "markdown",
   "id": "23df4539",
   "metadata": {},
   "source": [
    "10. Imagine a school management system. You have to design the \"Student\" class using OOP concepts.The “Student” class has the following attributes:\n",
    "    a. name: Represents the name of the student.\n",
    "    b. age: Represents the age of the student.\n",
    "    c. grade: Represents the grade or class of the student.\n",
    "    d. student_id: Represents the unique identifier for the student.\n",
    "    e. attendance: Represents the attendance record of the student.\n",
    "    The class should also include the following methods:\n",
    "    a. update_attendance(self, date, status): Updates the attendance record of the\n",
    "    student for a given date with the provided status (e.g., present or absent).\n",
    "    b. get_attendance(self): Returns the attendance record of the student.\n",
    "    c. get_average_attendance(self): Calculates and returns the average\n",
    "    attendance percentage of the student based on their attendance record."
   ]
  },
  {
   "cell_type": "markdown",
   "id": "8f4d13f1",
   "metadata": {},
   "source": [
    "A10: \n"
   ]
  }
 ],
 "metadata": {
  "kernelspec": {
   "display_name": "Python 3 (ipykernel)",
   "language": "python",
   "name": "python3"
  },
  "language_info": {
   "codemirror_mode": {
    "name": "ipython",
    "version": 3
   },
   "file_extension": ".py",
   "mimetype": "text/x-python",
   "name": "python",
   "nbconvert_exporter": "python",
   "pygments_lexer": "ipython3",
   "version": "3.10.9"
  }
 },
 "nbformat": 4,
 "nbformat_minor": 5
}
