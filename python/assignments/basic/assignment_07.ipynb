{
 "cells": [
  {
   "cell_type": "markdown",
   "id": "e122b3e9",
   "metadata": {},
   "source": [
    "# Assignment 7"
   ]
  },
  {
   "cell_type": "markdown",
   "id": "99e44e24",
   "metadata": {},
   "source": [
    "Q.1. Create two int type variables, apply addition, subtraction, division and multiplications\n",
    "and store the results in variables. Then print the data in the following format by calling the\n",
    "variables:\n",
    "First variable is __ & second variable is __.\n",
    "Addition: __ + __ = __\n",
    "Subtraction: __ - __ = __\n",
    "Multiplication: __ * __ = __\n",
    "Division: __ / __ = __"
   ]
  },
  {
   "cell_type": "code",
   "execution_count": 7,
   "id": "f4523f54",
   "metadata": {},
   "outputs": [
    {
     "name": "stdout",
     "output_type": "stream",
     "text": [
      "First variable is 20 & second variable is 10.\n",
      "Addition: 20 + 10 = 30\n",
      "Subtraction: 20 - 10 = 10\n",
      "Multiplication: 20 * 10 = 200\n",
      "Division: 20 / 10 = 2.0\n"
     ]
    }
   ],
   "source": [
    "A1: \n",
    "a = 20\n",
    "b = 10\n",
    "res_add = a + b\n",
    "res_subtract = a - b\n",
    "res_multiply = a * b\n",
    "res_divide = a / b\n",
    "\n",
    "print(f\"First variable is {a} & second variable is {b}.\")\n",
    "print(f\"Addition: {a} + {b} = {res_add}\")\n",
    "print(f\"Subtraction: {a} - {b} = {res_subtract}\")\n",
    "print(f\"Multiplication: {a} * {b} = {res_multiply}\")\n",
    "print(f\"Division: {a} / {b} = {res_divide}\")"
   ]
  },
  {
   "cell_type": "markdown",
   "id": "4336eab9",
   "metadata": {},
   "source": [
    "Q.2. What is the difference between the following operators:\n",
    "(i) ‘/’ & ‘//’\n",
    "(ii) ‘**’ & ‘^’"
   ]
  },
  {
   "cell_type": "markdown",
   "id": "85b0cc78",
   "metadata": {},
   "source": [
    "A2: \n"
   ]
  },
  {
   "cell_type": "markdown",
   "id": "44d15704",
   "metadata": {},
   "source": [
    "Q.3. List the logical operators."
   ]
  },
  {
   "cell_type": "markdown",
   "id": "6e4cfa8c",
   "metadata": {},
   "source": [
    "A3:\n",
    "\n"
   ]
  },
  {
   "cell_type": "markdown",
   "id": "7c33a584",
   "metadata": {},
   "source": [
    "Q.4. Explain right shift operator and left shift operator with examples."
   ]
  },
  {
   "cell_type": "markdown",
   "id": "4f5946b1",
   "metadata": {},
   "source": [
    "A4: \n",
    "\n"
   ]
  },
  {
   "cell_type": "markdown",
   "id": "b7c37661",
   "metadata": {},
   "source": [
    "Q.5. Create a list containing int type data of length 15. Then write a code to check if 10 is\n",
    "present in the list or not."
   ]
  },
  {
   "cell_type": "markdown",
   "id": "39fad1cc",
   "metadata": {},
   "source": [
    "A5: \n"
   ]
  }
 ],
 "metadata": {
  "kernelspec": {
   "display_name": "Python 3 (ipykernel)",
   "language": "python",
   "name": "python3"
  },
  "language_info": {
   "codemirror_mode": {
    "name": "ipython",
    "version": 3
   },
   "file_extension": ".py",
   "mimetype": "text/x-python",
   "name": "python",
   "nbconvert_exporter": "python",
   "pygments_lexer": "ipython3",
   "version": "3.10.9"
  }
 },
 "nbformat": 4,
 "nbformat_minor": 5
}
