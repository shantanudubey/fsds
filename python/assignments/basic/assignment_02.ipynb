{
 "cells": [
  {
   "cell_type": "markdown",
   "id": "af67a5ec",
   "metadata": {},
   "source": [
    "1.What are the two values of the Boolean data type? How do you write them?\n",
    "Answer: True and False"
   ]
  },
  {
   "cell_type": "markdown",
   "id": "0ac075bb",
   "metadata": {},
   "source": [
    "2. What are the three different types of Boolean operators?\n",
    "Answer: "
   ]
  },
  {
   "cell_type": "markdown",
   "id": "12995c12",
   "metadata": {},
   "source": [
    "3. Make a list of each Boolean operator's truth tables (i.e. every possible combination of Boolean\n",
    "values for the operator and what it evaluate ).\n",
    "Answer: "
   ]
  },
  {
   "cell_type": "markdown",
   "id": "cfebf2e7",
   "metadata": {},
   "source": [
    "4. What are the values of the following expressions?\n",
    "(5 > 4) and (3 == 5)\n",
    "not (5 > 4)\n",
    "(5 > 4) or (3 == 5)\n",
    "not ((5 > 4) or (3 == 5))\n",
    "(True and True) and (True == False)\n",
    "(not False) or (not True)\n",
    "\n",
    "Answer: "
   ]
  },
  {
   "cell_type": "markdown",
   "id": "9a5eef96",
   "metadata": {},
   "source": [
    "5. What are the six comparison operators?\n",
    "Answer: <, >, ==, <=, >= !="
   ]
  },
  {
   "cell_type": "markdown",
   "id": "7e1f4c3c",
   "metadata": {},
   "source": [
    "6. How do you tell the difference between the equal to and assignment operators?Describe a\n",
    "condition and when you would use one.\n",
    "Answer: \n",
    "equal : '=='\n",
    "assignment: '=' \n",
    "\n",
    "Example:\n",
    "if biometric_entry == True:\n",
    "    attendance_status = \"Present\"\n",
    "else:\n",
    "    attendance_status = \"Absent\""
   ]
  },
  {
   "cell_type": "markdown",
   "id": "e93e0b44",
   "metadata": {},
   "source": [
    "7. Identify the three blocks in this code:\n",
    "spam = 0\n",
    "\n",
    "Block 1\n",
    "if spam == 10:\n",
    "print('eggs')\n",
    "\n",
    "Block 2\n",
    "if spam > 5:\n",
    "print('bacon')\n",
    "\n",
    "Block 3\n",
    "else:\n",
    "print('ham')\n",
    "print('spam')\n",
    "print('spam')"
   ]
  },
  {
   "cell_type": "markdown",
   "id": "9cedb08f",
   "metadata": {},
   "source": [
    "8. Write code that prints Hello if 1 is stored in spam, prints Howdy if 2 is stored in spam, and prints\n",
    "Greetings! if anything else is stored in spam."
   ]
  },
  {
   "cell_type": "code",
   "execution_count": 1,
   "id": "c16a0683",
   "metadata": {},
   "outputs": [],
   "source": [
    "#Answer: \n"
   ]
  },
  {
   "cell_type": "markdown",
   "id": "7267b2a0",
   "metadata": {},
   "source": [
    "9.If your programme is stuck in an endless loop, what keys you’ll press?\n",
    "Answer: Press Ctrl + c twice"
   ]
  },
  {
   "cell_type": "markdown",
   "id": "a3c25003",
   "metadata": {},
   "source": [
    "10. How can you tell the difference between break and continue?\n",
    "Answer: \n"
   ]
  },
  {
   "cell_type": "markdown",
   "id": "ae9ca028",
   "metadata": {},
   "source": [
    "11. In a for loop, what is the difference between range(10), range(0, 10), and range(0, 10, 1)?\n",
    "Answer: \n"
   ]
  },
  {
   "cell_type": "markdown",
   "id": "fe38aa2a",
   "metadata": {},
   "source": [
    "12. Write a short program that prints the numbers 1 to 10 using a for loop.\n",
    "Then write an equivalent program that prints the numbers 1 to 10 using a while loop."
   ]
  },
  {
   "cell_type": "code",
   "execution_count": 2,
   "id": "daa8e550",
   "metadata": {},
   "outputs": [],
   "source": [
    "#Answer:\n"
   ]
  },
  {
   "cell_type": "markdown",
   "id": "034d0338",
   "metadata": {},
   "source": [
    "13. If you had a function named bacon() inside a module named spam, how would you call it after importing spam?\n",
    "Answer: "
   ]
  }
 ],
 "metadata": {
  "kernelspec": {
   "display_name": "Python 3 (ipykernel)",
   "language": "python",
   "name": "python3"
  },
  "language_info": {
   "codemirror_mode": {
    "name": "ipython",
    "version": 3
   },
   "file_extension": ".py",
   "mimetype": "text/x-python",
   "name": "python",
   "nbconvert_exporter": "python",
   "pygments_lexer": "ipython3",
   "version": "3.10.9"
  }
 },
 "nbformat": 4,
 "nbformat_minor": 5
}
